{
 "cells": [
  {
   "cell_type": "code",
   "execution_count": null,
   "id": "b4e0a6b0",
   "metadata": {},
   "outputs": [],
   "source": [
    "#1st problem\n",
    "class Solution:\n",
    "    def runningSum(self, nums: List[int]) -> List[int]:\n",
    "        ans=[0]*len(nums)\n",
    "        ans[0]=nums[0]\n",
    "        for i in range(1,len(nums)):\n",
    "            ans[i]=ans[i-1]+nums[i]\n",
    "        return ans"
   ]
  },
  {
   "cell_type": "code",
   "execution_count": null,
   "id": "20b89af0",
   "metadata": {},
   "outputs": [],
   "source": [
    "#2nd problem\n",
    "class Solution:\n",
    "    def shuffle(self, nums: List[int], n: int) -> List[int]:\n",
    "        ans = [None]*2 * n\n",
    "        j = 0\n",
    "        i = 0\n",
    "        while i < 2 * n:\n",
    "            ans[i] = nums[j]\n",
    "            ans[i + 1] = nums[n + j]\n",
    "            j += 1\n",
    "            i = i + 2\n",
    "        return ans"
   ]
  },
  {
   "cell_type": "code",
   "execution_count": null,
   "id": "e3ab3ce8",
   "metadata": {},
   "outputs": [],
   "source": [
    "#3rd problem\n",
    "class Solution:\n",
    "    def kidsWithCandies(self, candies: List[int], extraCandies: int) -> List[bool]:\n",
    "        max_candy=-1\n",
    "        for candy in candies:\n",
    "            if candy>max_candy:\n",
    "                max_candy=candy\n",
    "        results=[]\n",
    "        for candy in candies:\n",
    "            if candy + extraCandies >= max_candy:\n",
    "                results.append(True)\n",
    "            else:\n",
    "                results.append(False)\n",
    "        return results"
   ]
  }
 ],
 "metadata": {
  "kernelspec": {
   "display_name": "Python 3 (ipykernel)",
   "language": "python",
   "name": "python3"
  },
  "language_info": {
   "codemirror_mode": {
    "name": "ipython",
    "version": 3
   },
   "file_extension": ".py",
   "mimetype": "text/x-python",
   "name": "python",
   "nbconvert_exporter": "python",
   "pygments_lexer": "ipython3",
   "version": "3.9.13"
  }
 },
 "nbformat": 4,
 "nbformat_minor": 5
}
