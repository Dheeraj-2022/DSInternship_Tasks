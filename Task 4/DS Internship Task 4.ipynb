{
 "cells": [
  {
   "cell_type": "code",
   "execution_count": null,
   "id": "7300e32b",
   "metadata": {},
   "outputs": [],
   "source": [
    "#Single Number\n",
    "class Solution:\n",
    "    def singleNumber(self, nums: List[int]) -> int:\n",
    "        return sum(set(nums)) * 2 - sum(nums)"
   ]
  },
  {
   "cell_type": "code",
   "execution_count": null,
   "id": "59f06532",
   "metadata": {},
   "outputs": [],
   "source": [
    "#Sort Integers by The Number of 1 Bits\n",
    "class Solution:\n",
    "    def sortByBits(self, arr: List[int]) -> List[int]:\n",
    "        stack = []\n",
    "\n",
    "        for n in arr:\n",
    "            count = bin(n)[2:].count(\"1\")\n",
    "            stack.append([count, n])\n",
    "        \n",
    "        stack.sort()\n",
    "        arr = [num for c, num in stack]\n",
    "        return arr"
   ]
  },
  {
   "cell_type": "code",
   "execution_count": null,
   "id": "a085665b",
   "metadata": {},
   "outputs": [],
   "source": [
    "#Single Number III\n",
    "class Solution:\n",
    "    def singleNumber(self, nums: List[int]) -> List[int]:\n",
    "        res = 0\n",
    "        i = 0\n",
    "        while (i < len(nums)) :\n",
    "            res ^= nums[i]\n",
    "            i += 1\n",
    "        res = res & ~(res - 1)\n",
    "        bit = int((math.log(res) / math.log(2)))\n",
    "        num1 = 0\n",
    "        num2 = 0\n",
    "        i = 0\n",
    "        while (i < len(nums)) :\n",
    "            if ((nums[i] & (1 << bit)) > 0) :\n",
    "                num1 ^= nums[i]\n",
    "            else :\n",
    "                num2 ^= nums[i]\n",
    "            i += 1\n",
    "        return [num1, num2]"
   ]
  },
  {
   "cell_type": "code",
   "execution_count": null,
   "id": "7006d179",
   "metadata": {},
   "outputs": [],
   "source": [
    "#Subsets\n",
    "class Solution:\n",
    "    def subsets(self, nums: List[int]) -> List[List[int]]:\n",
    "\n",
    "        n=len(nums)\n",
    "        ans=[]\n",
    "        def solve(idx,lst):\n",
    "            if idx>=n:\n",
    "                ans.append(lst)\n",
    "                return \n",
    "            solve(idx+1,lst)                    \n",
    "            solve(idx+1,lst+[nums[idx]])        \n",
    "        solve(0,[])\n",
    "        return ans"
   ]
  }
 ],
 "metadata": {
  "kernelspec": {
   "display_name": "Python 3 (ipykernel)",
   "language": "python",
   "name": "python3"
  },
  "language_info": {
   "codemirror_mode": {
    "name": "ipython",
    "version": 3
   },
   "file_extension": ".py",
   "mimetype": "text/x-python",
   "name": "python",
   "nbconvert_exporter": "python",
   "pygments_lexer": "ipython3",
   "version": "3.9.13"
  }
 },
 "nbformat": 4,
 "nbformat_minor": 5
}
