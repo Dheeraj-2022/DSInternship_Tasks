{
 "cells": [
  {
   "cell_type": "code",
   "execution_count": null,
   "id": "f014e938",
   "metadata": {},
   "outputs": [],
   "source": [
    "#Subsets\n",
    "class Solution:\n",
    "    def subsets(self, nums: List[int]) -> List[List[int]]:\n",
    "\n",
    "        n=len(nums)\n",
    "        ans=[]\n",
    "        def solve(idx,lst):\n",
    "            if idx>=n:\n",
    "                ans.append(lst)\n",
    "                return \n",
    "            solve(idx+1,lst)                    \n",
    "            solve(idx+1,lst+[nums[idx]])        \n",
    "        solve(0,[])\n",
    "        return ans"
   ]
  },
  {
   "cell_type": "code",
   "execution_count": null,
   "id": "178c46c4",
   "metadata": {},
   "outputs": [],
   "source": [
    "#Hamming Distance\n",
    "class Solution:\n",
    "    def hammingDistance(self, x: int, y: int) -> int:\n",
    "\n",
    "        z= x ^ y\n",
    "        setBits = 0\n",
    " \n",
    "        while (z > 0) :\n",
    "            setBits += z & 1\n",
    "            z >>= 1\n",
    "     \n",
    "        return setBits"
   ]
  },
  {
   "cell_type": "code",
   "execution_count": null,
   "id": "131735ad",
   "metadata": {},
   "outputs": [],
   "source": [
    "#Single Number II\n",
    "class Solution:\n",
    "    def singleNumber(self, nums: List[int]) -> int:\n",
    "        for i in nums:\n",
    "            if nums.count(i)==1:\n",
    "                return i"
   ]
  }
 ],
 "metadata": {
  "kernelspec": {
   "display_name": "Python 3 (ipykernel)",
   "language": "python",
   "name": "python3"
  },
  "language_info": {
   "codemirror_mode": {
    "name": "ipython",
    "version": 3
   },
   "file_extension": ".py",
   "mimetype": "text/x-python",
   "name": "python",
   "nbconvert_exporter": "python",
   "pygments_lexer": "ipython3",
   "version": "3.9.13"
  }
 },
 "nbformat": 4,
 "nbformat_minor": 5
}
