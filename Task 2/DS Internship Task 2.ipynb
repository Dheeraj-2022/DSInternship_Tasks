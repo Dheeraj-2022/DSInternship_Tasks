{
 "cells": [
  {
   "cell_type": "code",
   "execution_count": null,
   "id": "01ed6209",
   "metadata": {},
   "outputs": [],
   "source": [
    "#Defanging an IP Address\n",
    "class Solution:\n",
    "    def defangIPaddr(self, address: str) -> str:\n",
    "        return address.replace(\".\",\"[.]\")"
   ]
  },
  {
   "cell_type": "code",
   "execution_count": null,
   "id": "8e25319b",
   "metadata": {},
   "outputs": [],
   "source": [
    "#Find Numbers with Even Number of Digits\n",
    "class Solution:\n",
    "    def findNumbers(self, nums: List[int]) -> int:\n",
    "        return len(list(filter(lambda x: not x & 1,map(len,map(str,nums)))))"
   ]
  },
  {
   "cell_type": "code",
   "execution_count": null,
   "id": "13770a62",
   "metadata": {},
   "outputs": [],
   "source": [
    "#Number of Good Pairs\n",
    "class Solution(object):\n",
    "    def numIdenticalPairs(self, nums):\n",
    "        \"\"\"\n",
    "        :type nums: List[int]\n",
    "        :rtype: int\n",
    "        \"\"\"\n",
    "        count=0\n",
    "        n=len(nums)\n",
    "        for i in range(n):\n",
    "            for j in range(i+1,n):\n",
    "                if nums[i]==nums[j]:\n",
    "                    count +=1\n",
    "        return count"
   ]
  },
  {
   "cell_type": "code",
   "execution_count": null,
   "id": "d30cd1e0",
   "metadata": {},
   "outputs": [],
   "source": [
    "#How Many Numbers Are Smaller Than the Current Number\n",
    "class Solution(object):\n",
    "    def smallerNumbersThanCurrent(self, nums):\n",
    "        \"\"\"\n",
    "        :type nums: List[int]\n",
    "        :rtype: List[int]\n",
    "        \"\"\"\n",
    "        output = [0] * (len(nums))\n",
    "        i = 0\n",
    "        while (i < len(nums)) :\n",
    "            count = 0\n",
    "            j = 0\n",
    "            while (j < len(nums)) :\n",
    "                if (nums[j] < nums[i]) :\n",
    "                    count += 1\n",
    "                    output[i] = count\n",
    "                j += 1\n",
    "            i += 1\n",
    "        return output"
   ]
  },
  {
   "cell_type": "code",
   "execution_count": null,
   "id": "085597ee",
   "metadata": {},
   "outputs": [],
   "source": [
    "#Subtract the Product and Sum of Digits of an Integer\n",
    "class Solution(object):\n",
    "    def subtractProductAndSum(self, n):\n",
    "        \"\"\"\n",
    "        :type n: int\n",
    "        :rtype: int\n",
    "        \"\"\"\n",
    "        product = 1\n",
    "        sum = 0\n",
    "        while (n > 0) :\n",
    "            product *= (n % 10)\n",
    "            sum += (n % 10)\n",
    "            n /= 10\n",
    "        return product - sum"
   ]
  },
  {
   "cell_type": "code",
   "execution_count": null,
   "id": "346215d2",
   "metadata": {},
   "outputs": [],
   "source": [
    "#XOR Operation in an Array\n",
    "class Solution:\n",
    "    def xorOperation(self, n: int, start: int) -> int:\n",
    "\n",
    "        x = 0\n",
    "        for i in range(n):\n",
    "            x ^= start+2*i\n",
    "        return x\n",
    "        "
   ]
  }
 ],
 "metadata": {
  "kernelspec": {
   "display_name": "Python 3 (ipykernel)",
   "language": "python",
   "name": "python3"
  },
  "language_info": {
   "codemirror_mode": {
    "name": "ipython",
    "version": 3
   },
   "file_extension": ".py",
   "mimetype": "text/x-python",
   "name": "python",
   "nbconvert_exporter": "python",
   "pygments_lexer": "ipython3",
   "version": "3.9.13"
  }
 },
 "nbformat": 4,
 "nbformat_minor": 5
}
