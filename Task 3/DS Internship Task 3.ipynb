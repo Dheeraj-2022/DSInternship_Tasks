{
 "cells": [
  {
   "cell_type": "code",
   "execution_count": null,
   "id": "25da67de",
   "metadata": {},
   "outputs": [],
   "source": [
    "#Maximum Product of Two Elements in an Array\n",
    "class Solution:\n",
    "    def maxProduct(self, nums: List[int]) -> int:\n",
    "        nums.sort()\n",
    "        return (nums[-1] - 1) * (nums[-2] - 1)"
   ]
  },
  {
   "cell_type": "code",
   "execution_count": null,
   "id": "adae1e66",
   "metadata": {},
   "outputs": [],
   "source": [
    "#Count Number of Teams\n",
    "class Solution:\n",
    "    def numTeams(self, rating: List[int]) -> int:\n",
    "        n, ans = len(rating), 0\n",
    "        for j in range(1, n - 1):\n",
    "            ia = ib = ka = kb = 0\n",
    "            for i in range(j):\n",
    "                if rating[i] < rating[j]:\n",
    "                    ia += 1\n",
    "                elif rating[i] > rating[j]:\n",
    "                    ib += 1\n",
    "            for k in range(j + 1, n):\n",
    "                if rating[j] < rating[k]:\n",
    "                    ka += 1\n",
    "                elif rating[j] > rating[k]:\n",
    "                    kb += 1\n",
    "            ans += ia * ka + ib * kb\n",
    "        return ans"
   ]
  },
  {
   "cell_type": "code",
   "execution_count": null,
   "id": "81daec96",
   "metadata": {},
   "outputs": [],
   "source": [
    "#Number of Students Doing Homework at a Given Time\n",
    "class Solution:\n",
    "    def busyStudent(self, startTime: List[int], endTime: List[int], queryTime: int) -> int:\n",
    "        r=0\n",
    "        for s,e in zip(startTime,endTime):\n",
    "            if queryTime in range(s,e+1):\n",
    "                r+=1\n",
    "        return (r)"
   ]
  },
  {
   "cell_type": "code",
   "execution_count": null,
   "id": "68828e4c",
   "metadata": {},
   "outputs": [],
   "source": [
    "#Number of Steps to Reduce a Number to Zero\n",
    "class Solution:\n",
    "    def numberOfSteps(self, num: int) -> int:\n",
    "        ans=0\n",
    "        while num>0:\n",
    "            if num%2:\n",
    "                num-=1\n",
    "            else:\n",
    "                num/=2\n",
    "            ans+=1\n",
    "        return ans"
   ]
  },
  {
   "cell_type": "code",
   "execution_count": null,
   "id": "12f12bfb",
   "metadata": {},
   "outputs": [],
   "source": [
    "#Counting Bits\n",
    "class Solution:\n",
    "    def countBits(self, n: int) -> List[int]:\n",
    "        ans = []\n",
    "        for i in range(0, n+1):\n",
    "            num = i\n",
    "            cnt = 0\n",
    "            while num > 0:\n",
    "                if num & 1:\n",
    "                    cnt += 1\n",
    "                num = num >> 1\n",
    "            ans.append(cnt)\n",
    "        return ans"
   ]
  }
 ],
 "metadata": {
  "kernelspec": {
   "display_name": "Python 3 (ipykernel)",
   "language": "python",
   "name": "python3"
  },
  "language_info": {
   "codemirror_mode": {
    "name": "ipython",
    "version": 3
   },
   "file_extension": ".py",
   "mimetype": "text/x-python",
   "name": "python",
   "nbconvert_exporter": "python",
   "pygments_lexer": "ipython3",
   "version": "3.9.13"
  }
 },
 "nbformat": 4,
 "nbformat_minor": 5
}
